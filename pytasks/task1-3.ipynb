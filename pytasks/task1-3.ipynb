{
 "cells": [
  {
   "cell_type": "code",
   "execution_count": 1,
   "metadata": {},
   "outputs": [],
   "source": [
    "import pandas as pd\n",
    "import numpy as np"
   ]
  },
  {
   "cell_type": "markdown",
   "metadata": {},
   "source": [
    "RRAY OF PROCESSES"
   ]
  },
  {
   "cell_type": "code",
   "execution_count": 2,
   "metadata": {},
   "outputs": [],
   "source": [
    "array = np.array ([ ['Baking'], ['Drying'], ['Microwave drying'], ['Freeze drying'], ['Milling'], \n",
    "                   ['Extrusion'], ['Sterilization'],['Pasteurization'] , ['Freezing 20C'], \n",
    "                   ['Freezing 30C'], ['Wet fraction'], ['Cutting'], ['Slicing'], \n",
    "                    ['Separation and washing'], ['Blanching'], \n",
    "                    ['Wet fractionation'], ['Cooling']]) "
   ]
  },
  {
   "cell_type": "code",
   "execution_count": 3,
   "metadata": {},
   "outputs": [],
   "source": [
    "df = pd.DataFrame (array, columns = ['Processing'])"
   ]
  },
  {
   "cell_type": "code",
   "execution_count": 4,
   "metadata": {},
   "outputs": [
    {
     "data": {
      "text/html": [
       "<div>\n",
       "<style scoped>\n",
       "    .dataframe tbody tr th:only-of-type {\n",
       "        vertical-align: middle;\n",
       "    }\n",
       "\n",
       "    .dataframe tbody tr th {\n",
       "        vertical-align: top;\n",
       "    }\n",
       "\n",
       "    .dataframe thead th {\n",
       "        text-align: right;\n",
       "    }\n",
       "</style>\n",
       "<table border=\"1\" class=\"dataframe\">\n",
       "  <thead>\n",
       "    <tr style=\"text-align: right;\">\n",
       "      <th></th>\n",
       "      <th>Processing</th>\n",
       "    </tr>\n",
       "  </thead>\n",
       "  <tbody>\n",
       "    <tr>\n",
       "      <th>0</th>\n",
       "      <td>Baking</td>\n",
       "    </tr>\n",
       "    <tr>\n",
       "      <th>1</th>\n",
       "      <td>Drying</td>\n",
       "    </tr>\n",
       "    <tr>\n",
       "      <th>2</th>\n",
       "      <td>Microwave drying</td>\n",
       "    </tr>\n",
       "    <tr>\n",
       "      <th>3</th>\n",
       "      <td>Freeze drying</td>\n",
       "    </tr>\n",
       "    <tr>\n",
       "      <th>4</th>\n",
       "      <td>Milling</td>\n",
       "    </tr>\n",
       "  </tbody>\n",
       "</table>\n",
       "</div>"
      ],
      "text/plain": [
       "         Processing\n",
       "0            Baking\n",
       "1            Drying\n",
       "2  Microwave drying\n",
       "3     Freeze drying\n",
       "4           Milling"
      ]
     },
     "execution_count": 4,
     "metadata": {},
     "output_type": "execute_result"
    }
   ],
   "source": [
    "df.head()"
   ]
  },
  {
   "cell_type": "code",
   "execution_count": 5,
   "metadata": {},
   "outputs": [],
   "source": [
    "def funct1(array):\n",
    "    call = input().title().strip()\n",
    "    if (call == 'Baking') or (call == 'Drying') or (call == 'Microwave Drying') or (call == 'Freeze Drying'):\n",
    "        array = np.delete(array,10)#DELETES WET FRACTION\n",
    "        \n",
    "    elif (call == 'Milling'):\n",
    "        array = np.delete(array,(11,12))#DELETES CUTTING AND SLICING\n",
    "    elif (call == 'Sterilization') or (call == 'Pasteurization'):\n",
    "        array = np.delete(array,(14))# DELETES BLANCHING\n",
    "    for element in array: #PRINT ARRAY\n",
    "        print((element))"
   ]
  },
  {
   "cell_type": "code",
   "execution_count": 6,
   "metadata": {},
   "outputs": [],
   "source": [
    "def funct2(array):\n",
    "    call = input().title().strip()#MAKES SURE INPUT STARTS WITH CAPITAL LETTER\n",
    "    if (call == 'Sterilization'):\n",
    "        array[[2, 7]] = array[[7, 2]]#SWAPS PASTEURIZATION AND MICROWAVE DRAWING SO PAST. DOESN'T COME AFTER STERILIZATION\n",
    "        \n",
    "    elif (call == 'Freezing 20C') or (call == 'Freezing 30C'):\n",
    "        #array[[2, 7]] = array[[7, 2]]\n",
    "        pass\n",
    "    for element in array: #PRINT ARRAY\n",
    "        print(element)"
   ]
  },
  {
   "cell_type": "markdown",
   "metadata": {},
   "source": [
    "EST"
   ]
  },
  {
   "cell_type": "code",
   "execution_count": null,
   "metadata": {},
   "outputs": [],
   "source": [
    "if __name__ == '__main__':\n",
    "    funct1(array)\n",
    "    print('')\n",
    "    funct2(array)"
   ]
  },
  {
   "cell_type": "code",
   "execution_count": null,
   "metadata": {},
   "outputs": [],
   "source": []
  },
  {
   "cell_type": "code",
   "execution_count": null,
   "metadata": {},
   "outputs": [],
   "source": []
  }
 ],
 "metadata": {
  "kernelspec": {
   "display_name": "Python 3",
   "language": "python",
   "name": "python3"
  },
  "language_info": {
   "codemirror_mode": {
    "name": "ipython",
    "version": 3
   },
   "file_extension": ".py",
   "mimetype": "text/x-python",
   "name": "python",
   "nbconvert_exporter": "python",
   "pygments_lexer": "ipython3",
   "version": "3.8.5"
  }
 },
 "nbformat": 4,
 "nbformat_minor": 2
}
